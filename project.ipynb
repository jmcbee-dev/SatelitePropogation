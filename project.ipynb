{
 "cells": [
  {
   "cell_type": "markdown",
   "metadata": {
    "id": "m4sGYUP6bxOj"
   },
   "source": [
    "## CSCI 470 SATGazers\n"
   ]
  },
  {
   "cell_type": "code",
   "execution_count": 1,
   "metadata": {
    "colab": {
     "base_uri": "https://localhost:8080/"
    },
    "id": "lw6GLDc3b4Q4",
    "outputId": "f701024b-b79b-4694-bf7a-c6eac5a6208c"
   },
   "outputs": [
    {
     "name": "stdout",
     "output_type": "stream",
     "text": [
      "Requirement already satisfied: pyephem in /home/jacob/anaconda3/lib/python3.8/site-packages (9.99)\n",
      "Requirement already satisfied: ephem in /home/jacob/anaconda3/lib/python3.8/site-packages (from pyephem) (4.1.1)\n",
      "Collecting skyfield\n",
      "  Downloading skyfield-1.40.tar.gz (380 kB)\n",
      "     |████████████████████████████████| 380 kB 2.6 MB/s            \n",
      "\u001b[?25h  Preparing metadata (setup.py) ... \u001b[?25ldone\n",
      "\u001b[?25hRequirement already satisfied: certifi>=2017.4.17 in /home/jacob/anaconda3/lib/python3.8/site-packages (from skyfield) (2020.12.5)\n",
      "Collecting jplephem>=2.13\n",
      "  Downloading jplephem-2.16.tar.gz (40 kB)\n",
      "     |████████████████████████████████| 40 kB 3.4 MB/s             \n",
      "\u001b[?25h  Preparing metadata (setup.py) ... \u001b[?25ldone\n",
      "\u001b[?25hRequirement already satisfied: numpy in /home/jacob/anaconda3/lib/python3.8/site-packages (from skyfield) (1.19.5)\n",
      "Collecting sgp4>=2.2\n",
      "  Downloading sgp4-2.20-cp38-cp38-manylinux2010_x86_64.whl (258 kB)\n",
      "     |████████████████████████████████| 258 kB 2.3 MB/s            \n",
      "\u001b[?25hBuilding wheels for collected packages: skyfield, jplephem\n",
      "  Building wheel for skyfield (setup.py) ... \u001b[?25ldone\n",
      "\u001b[?25h  Created wheel for skyfield: filename=skyfield-1.40-py3-none-any.whl size=425560 sha256=327c68bcdf5d8e7c3bf0920e066f587b665ca0e508acf2ab0e870a56a930e048\n",
      "  Stored in directory: /home/jacob/.cache/pip/wheels/56/a3/b2/64446948752ff6bc07dcc4f6d1c6969fd7ddb6e91264d5d2aa\n",
      "  Building wheel for jplephem (setup.py) ... \u001b[?25ldone\n",
      "\u001b[?25h  Created wheel for jplephem: filename=jplephem-2.16-py3-none-any.whl size=46775 sha256=e11d167804c34478eabdc66ae7ffa90ab456d986f554218c4a06b17370a2121f\n",
      "  Stored in directory: /home/jacob/.cache/pip/wheels/32/6c/56/475357f9ee778f1995ba2be80c79e0fdded7162e1dc3ddc578\n",
      "Successfully built skyfield jplephem\n",
      "Installing collected packages: sgp4, jplephem, skyfield\n",
      "Successfully installed jplephem-2.16 sgp4-2.20 skyfield-1.40\n",
      "Collecting pyproj\n",
      "  Downloading pyproj-3.3.0-cp38-cp38-manylinux_2_12_x86_64.manylinux2010_x86_64.whl (5.8 MB)\n",
      "     |████████████████████████████████| 5.8 MB 3.6 MB/s            \n",
      "\u001b[?25hRequirement already satisfied: certifi in /home/jacob/anaconda3/lib/python3.8/site-packages (from pyproj) (2020.12.5)\n",
      "Installing collected packages: pyproj\n",
      "Successfully installed pyproj-3.3.0\n"
     ]
    }
   ],
   "source": [
    "!pip install pyephem\n",
    "!pip install skyfield\n",
    "!pip install pyproj"
   ]
  },
  {
   "cell_type": "code",
   "execution_count": 56,
   "metadata": {
    "id": "BklNQ52d73Qx",
    "nbgrader": {
     "grade": false,
     "grade_id": "cell-d07727b5ced87bf2",
     "locked": false,
     "schema_version": 3,
     "solution": false
    }
   },
   "outputs": [],
   "source": [
    "import tensorflow as tf\n",
    "import tensorflow.keras as keras\n",
    "import numpy as np\n",
    "from tensorflow.keras import Sequential\n",
    "from tensorflow.keras.layers import Dense, Dropout, Input\n",
    "from tensorflow.keras.optimizers import SGD, Adam\n",
    "\n",
    "import pandas as pd\n",
    "import sklearn\n",
    "from sklearn.model_selection import train_test_split\n",
    "\n",
    "import matplotlib.pyplot as plt\n",
    "\n",
    "plt.style.use(\"ggplot\")\n",
    "np.random.seed(0)\n",
    "tf.random.set_seed(0)"
   ]
  },
  {
   "cell_type": "code",
   "execution_count": 3,
   "metadata": {
    "id": "lOEAeGxU73Qz"
   },
   "outputs": [],
   "source": [
    "sat_28884 = pd.read_json(\"./28884.json\")\n",
    "sat_13552 = pd.read_json(\"./13552.json\")\n",
    "sat_19608 = pd.read_json(\"./19608.json\")\n",
    "sat_48006 = pd.read_json(\"./48006.json\")\n",
    "sat_33379 = pd.read_json(\"./33379.json\")\n",
    "sat_33468 = pd.read_json(\"./33468.json\")"
   ]
  },
  {
   "cell_type": "code",
   "execution_count": 186,
   "metadata": {
    "id": "k0zR3OvXbxOt"
   },
   "outputs": [],
   "source": [
    "# ignore cell, based on previous version\n",
    "\n",
    "\n",
    "longs = []\n",
    "lats = []\n",
    "elevations = []\n",
    "          \n",
    "for i, entry in sat_48006.iterrows():\n",
    "  name = entry['TLE_LINE0']\n",
    "  line1 = entry['TLE_LINE1']\n",
    "  line2 = entry['TLE_LINE2']\n",
    "  epoch = entry['EPOCH']\n",
    "  \n",
    "  tle_rec = ephem.readtle(name, line1, line2)\n",
    "  tle_rec.compute(epoch)\n",
    "\n",
    "  longs.append(tle_rec.sublong)\n",
    "  lats.append(tle_rec.sublat)\n",
    "  elevations.append(tle_rec.elevation)\n",
    "  \n",
    "sat_48006['LONGITUDE'] = np.array(longs)\n",
    "sat_48006['LATITUDE'] = np.array(lats)\n",
    "sat_48006['ELEVATION'] = np.array(elevations)"
   ]
  },
  {
   "cell_type": "code",
   "execution_count": 4,
   "metadata": {
    "id": "1_bkTysRpLCa"
   },
   "outputs": [],
   "source": [
    "def makecubelimits(axis, centers=None, hw=None):\n",
    "    lims = ax.get_xlim(), ax.get_ylim(), ax.get_zlim()\n",
    "    if centers == None:\n",
    "        centers = [0.5*sum(pair) for pair in lims] \n",
    "\n",
    "    if hw == None:\n",
    "        widths  = [pair[1] - pair[0] for pair in lims]\n",
    "        hw      = 0.5*max(widths)\n",
    "        ax.set_xlim(centers[0]-hw, centers[0]+hw)\n",
    "        ax.set_ylim(centers[1]-hw, centers[1]+hw)\n",
    "        ax.set_zlim(centers[2]-hw, centers[2]+hw)\n",
    "        print(\"hw was None so set to:\", hw)\n",
    "    else:\n",
    "        try:\n",
    "            hwx, hwy, hwz = hw\n",
    "            print(\"ok hw requested: \", hwx, hwy, hwz)\n",
    "\n",
    "            ax.set_xlim(centers[0]-hwx, centers[0]+hwx)\n",
    "            ax.set_ylim(centers[1]-hwy, centers[1]+hwy)\n",
    "            ax.set_zlim(centers[2]-hwz, centers[2]+hwz)\n",
    "        except:\n",
    "            print(\"nope hw requested: \", hw)\n",
    "            ax.set_xlim(centers[0]-hw, centers[0]+hw)\n",
    "            ax.set_ylim(centers[1]-hw, centers[1]+hw)\n",
    "            ax.set_zlim(centers[2]-hw, centers[2]+hw)\n",
    "\n",
    "    return centers, hw\n"
   ]
  },
  {
   "cell_type": "code",
   "execution_count": 211,
   "metadata": {
    "colab": {
     "base_uri": "https://localhost:8080/"
    },
    "id": "brcqqVnfpOO0",
    "outputId": "00494ad1-4c71-4edc-ec83-559388d8987a"
   },
   "outputs": [
    {
     "data": {
      "text/plain": [
       "2021"
      ]
     },
     "execution_count": 211,
     "metadata": {},
     "output_type": "execute_result"
    }
   ],
   "source": [
    "# Data inspection\n",
    "L1, L2 = sat_48006.iloc[0]['TLE_LINE1'], sat_48006.iloc[0]['TLE_LINE2']\n",
    "sat_48006.iloc[0]\n",
    "date = sat_48006.iloc[0]['EPOCH']\n",
    "d = datetime.datetime.strptime(date, \"%Y-%m-%d %H:%M:%S\")\n",
    "date_28884.year"
   ]
  },
  {
   "cell_type": "code",
   "execution_count": 7,
   "metadata": {
    "colab": {
     "base_uri": "https://localhost:8080/",
     "height": 523
    },
    "id": "Z_0hUSyrpSo9",
    "outputId": "eac64052-2c3b-41a4-e44f-a877bcaf45d0"
   },
   "outputs": [
    {
     "name": "stderr",
     "output_type": "stream",
     "text": [
      "[#################################] 100% de421.bsp\n"
     ]
    },
    {
     "data": {
      "image/png": "[encoded data removed]",
      "text/plain": [
       "<Figure size 720x576 with 1 Axes>"
      ]
     },
     "metadata": {},
     "output_type": "display_data"
    }
   ],
   "source": [
    "from skyfield.api import load, EarthSatellite\n",
    "from skyfield.timelib import Time\n",
    "import numpy as np\n",
    "import matplotlib.pyplot as plt\n",
    "from mpl_toolkits.mplot3d import Axes3D\n",
    "import ephem\n",
    "import datetime\n",
    "import math, pyproj\n",
    "\n",
    "def plotaxislimit(axis, centers=None, hw=None):\n",
    "    lims = ax.get_xlim(), ax.get_ylim(), ax.get_zlim()\n",
    "    if centers == None:\n",
    "        centers = [0.5*sum(pair) for pair in lims] \n",
    "\n",
    "    if hw == None:\n",
    "        widths  = [pair[1] - pair[0] for pair in lims]\n",
    "        hw      = 0.5*max(widths)\n",
    "        ax.set_xlim(centers[0]-hw, centers[0]+hw)\n",
    "        ax.set_ylim(centers[1]-hw, centers[1]+hw)\n",
    "        ax.set_zlim(centers[2]-hw, centers[2]+hw)\n",
    "        print(\"hw was None so set to:\", hw)\n",
    "    else:\n",
    "        try:\n",
    "            hwx, hwy, hwz = hw\n",
    "            print(\"ok hw requested: \", hwx, hwy, hwz)\n",
    "\n",
    "            ax.set_xlim(centers[0]-hwx, centers[0]+hwx)\n",
    "            ax.set_ylim(centers[1]-hwy, centers[1]+hwy)\n",
    "            ax.set_zlim(centers[2]-hwz, centers[2]+hwz)\n",
    "        except:\n",
    "            print(\"nope hw requested: \", hw)\n",
    "            ax.set_xlim(centers[0]-hw, centers[0]+hw)\n",
    "            ax.set_ylim(centers[1]-hw, centers[1]+hw)\n",
    "            ax.set_zlim(centers[2]-hw, centers[2]+hw)\n",
    "\n",
    "    return centers, hw\n",
    "\n",
    "\n",
    "halfpi, pi, twopi = [f*np.pi for f in (0.5, 1, 2)]\n",
    "degs, rads = 180/pi, pi/180\n",
    "\n",
    "sats = []\n",
    "all_sats = [sat_13552, sat_19608, sat_28884, sat_33379, sat_33468, sat_48006]\n",
    "for sat in all_sats:\n",
    "  entry = sat.iloc[math.floor(len(sat)/2)]\n",
    "  SatL1, SatL2 = entry['TLE_LINE1'], entry['TLE_LINE2']\n",
    "  date = datetime.datetime.strptime(entry['EPOCH'], \"%Y-%m-%d %H:%M:%S\")\n",
    "  \n",
    "  tmp_sat = dict(name=entry['OBJECT_NAME'], L1=SatL1, L2=SatL2, year=date.year, month=date.month, day=date.day)\n",
    "  sats.append(tmp_sat)\n",
    "\n",
    "\n",
    "data = load('de421.bsp')\n",
    "ts   = load.timescale()\n",
    "\n",
    "planets = load('de421.bsp')\n",
    "earth   = planets['earth']\n",
    "\n",
    "eSats = []\n",
    "hours = np.arange(0, 24.3, 0.30)\n",
    "\n",
    "for s in sats:\n",
    "  Sat = EarthSatellite(s['L1'], s['L2'], name=s['name'])\n",
    "  eSats.append(Sat)\n",
    "  time = ts.utc(s['year'], s['month'], s['day'], hours)\n",
    "  s['pos'] = Sat.at(time).position.km\n",
    "  s['posecl'] = Sat.at(time).ecliptic_position().km\n",
    "\n",
    "\n",
    "re = 6378.\n",
    "\n",
    "theta = np.linspace(0, twopi, 201)\n",
    "cth, sth, zth = [f(theta) for f in (np.cos, np.sin, np.zeros_like)]\n",
    "lon0 = re*np.vstack((cth, zth, sth))\n",
    "lons = []\n",
    "for phi in rads*np.arange(0, 180, 15):\n",
    "    cph, sph = [f(phi) for f in (np.cos, np.sin)]\n",
    "    lon = np.vstack((lon0[0]*cph - lon0[1]*sph,\n",
    "                     lon0[1]*cph + lon0[0]*sph,\n",
    "                     lon0[2]) )\n",
    "    lons.append(lon)\n",
    "\n",
    "lat0 = re*np.vstack((cth, sth, zth))\n",
    "lats = []\n",
    "for phi in rads*np.arange(-75, 90, 15):\n",
    "    cph, sph = [f(phi) for f in (np.cos, np.sin)]\n",
    "    lat = re*np.vstack((cth*cph, sth*cph, zth+sph))\n",
    "    lats.append(lat)\n",
    "\n",
    "\n",
    "figPlot = plt.figure(figsize=[10, 8])\n",
    "figPlot.suptitle('SATELLITE PROJECTION', fontsize=14, fontweight='bold')\n",
    "axdet  = figPlot.add_subplot(1, 1, 1, projection='3d')\n",
    "for Sat in sats:\n",
    "    x, y, z = Sat['pos']\n",
    "    axdet.plot(x, y, z)\n",
    "    #ax.text(5500, 500, 8500, Sat03.name)\n",
    "    for x, y, z in lons:\n",
    "        axdet.plot(x, y, z, '-k')\n",
    "    for x, y, z in lats:\n",
    "        axdet.plot(x, y, z, '-k')\n",
    "\n",
    "  \n",
    "\n",
    "plt.show()\n"
   ]
  },
  {
   "cell_type": "code",
   "execution_count": 8,
   "metadata": {
    "colab": {
     "base_uri": "https://localhost:8080/"
    },
    "id": "9eMJzixvh6U3",
    "outputId": "61c40ce4-ee28-4177-85c5-e36e17da76f1"
   },
   "outputs": [
    {
     "data": {
      "text/plain": [
       "array([[  680.36614051,  -998.02671344, -1431.44985641,   -83.57870567,\n",
       "         1367.86934003,  1123.72195052,  -511.15529869, -1507.49887478,\n",
       "         -625.87153427,  1032.73119029,  1410.56261342,    41.94755873,\n",
       "        -1375.9361966 , -1078.40309671,   559.17916936,  1502.98186156,\n",
       "          584.92966234, -1056.2132443 , -1379.93345797,    13.04339301,\n",
       "         1389.66736663,  1043.81573247,  -593.82381872, -1490.04013415,\n",
       "         -530.48769938,  1087.46618645,  1356.85098189,   -53.62467461,\n",
       "        -1394.67304869,  -997.2236808 ,   639.06868715,  1482.51116111,\n",
       "          489.60505498, -1108.24958878, -1323.91615941,   106.95166453,\n",
       "         1404.92819104,   961.65809524,  -671.67052969, -1466.66634801,\n",
       "         -435.47679074,  1136.05198903,  1298.85171316,  -146.33487601,\n",
       "        -1406.90483326,  -914.04781027,   714.02778882,  1456.30989748,\n",
       "          394.83388058, -1154.09626647, -1263.81737307,   197.7985304 ,\n",
       "         1413.80270446,   877.70798568,  -744.49051023, -1437.69251787,\n",
       "         -341.27025554,  1178.47053764,  1236.98166915,  -235.84544012,\n",
       "        -1412.79789077,  -829.33402848,   783.87466478,  1424.69779291,\n",
       "          301.03841953, -1193.74908804, -1200.0620366 ,   285.26590526,\n",
       "         1416.47041692,   792.41638312,  -812.11356798, -1403.45183829,\n",
       "         -248.27852243,  1214.7376737 ,  1171.66211735,  -321.84834488,\n",
       "        -1412.54690548,  -743.53090648,   848.46185836,  1388.01103569,\n",
       "          208.61986475],\n",
       "       [ 1202.90651233,  6661.67341295,  3816.53915754, -3784.51852458,\n",
       "        -6692.84747826, -1302.49039352,  5697.86858265,  5601.49452607,\n",
       "        -1477.85041915, -6727.75360886, -3633.60626523,  3961.13703342,\n",
       "         6626.57569953,  1029.05980216, -5853.93090107, -5476.3486518 ,\n",
       "         1688.18958374,  6751.1322786 ,  3397.83316571, -4189.36519962,\n",
       "        -6581.44536999,  -813.35162647,  5958.16760309,  5307.42333787,\n",
       "        -1958.89822883, -6798.4997458 , -3206.43228605,  4356.65020517,\n",
       "         6497.43224755,   536.64363921, -6097.34445859, -5168.73326865,\n",
       "         2165.17543623,  6804.69982669,  2960.57739296, -4572.56148606,\n",
       "        -6435.06644286,  -319.28613751,  6187.08311267,  4984.74102608,\n",
       "        -2430.17872182, -6833.33315192, -2761.7793875 ,  4729.54696423,\n",
       "         6333.47704236,    40.78927328, -6308.78309251, -4833.40460923,\n",
       "         2631.31165684,  6822.0318505 ,  2507.08715562, -4932.03948009,\n",
       "        -6254.44356246,   177.09281855,  6383.32890051,  4635.14890629,\n",
       "        -2889.17710818, -6832.01727724, -2301.98146849,  5077.78976928,\n",
       "         6135.55100827,  -455.87180725, -6487.07334769, -4472.10836396,\n",
       "         3084.09645406,  6802.98187339,  2039.76499846, -5265.85342247,\n",
       "        -6040.4939373 ,   673.15408954,  6545.79335634,  4260.49397849,\n",
       "        -3333.43987153, -6794.50928945, -1829.45611105,  5399.46789895,\n",
       "         5904.6809288 ,  -950.70168174, -6631.21705108, -4086.73036616,\n",
       "         3521.09212254],\n",
       "       [-6786.47637038, -1585.15068659,  5589.99739509,  5801.10797028,\n",
       "        -1198.15742006, -6711.74056524, -3895.82093153,  3769.88811208,\n",
       "         6734.4938791 ,  1325.38358252, -5732.04971977, -5677.56336708,\n",
       "         1437.19017079,  6757.72837166,  3669.60077013, -3979.23242623,\n",
       "        -6690.71149349, -1091.18279146,  5866.63096984,  5517.53838872,\n",
       "        -1689.06132702, -6800.41538826, -3471.05246387,  4180.09055322,\n",
       "         6619.77127054,   829.47030992, -5993.09267194, -5379.42212983,\n",
       "         1925.4486401 ,  6827.47474355,  3235.76989403, -4377.5330648 ,\n",
       "        -6559.12895698,  -591.29156866,  6111.75260414,  5204.4125804 ,\n",
       "        -2170.96847428, -6852.75989443, -3027.54993573,  4567.78800276,\n",
       "         6469.60813952,   329.063296  , -6222.13792459, -5052.35971433,\n",
       "         2403.33792288,  6860.6380158 ,  2784.56352778, -4752.4584006 ,\n",
       "        -6392.40564335,   -88.17548582,  6324.05803401,  4863.39633763,\n",
       "        -2641.29710087, -6868.47589511, -2567.69155012,  4930.89981389,\n",
       "         6284.80337974,  -173.15715674, -6417.9541364 , -4698.10889146,\n",
       "         2868.27828793,  6857.04622317,  2318.39228527, -5102.00128318,\n",
       "        -6191.40657099,   415.44756922,  6502.41957549,  4496.30501484,\n",
       "        -3097.52733581, -6847.45874476, -2093.94807951,  5267.48014008,\n",
       "         6066.3395207 ,  -674.49986924, -6579.48549861, -4318.55223849,\n",
       "         3317.76169642,  6816.72214338,  1839.74876298, -5424.28972286,\n",
       "        -5957.1810406 ]])"
      ]
     },
     "execution_count": 8,
     "metadata": {},
     "output_type": "execute_result"
    }
   ],
   "source": [
    "# An example of generated positions (x,y,z)\n",
    "sats[0]['pos']"
   ]
  },
  {
   "cell_type": "code",
   "execution_count": 70,
   "metadata": {
    "id": "k5HkYHwIkJCn"
   },
   "outputs": [],
   "source": [
    "all_sats = pd.DataFrame(pd.read_json(\"./10000_sats.json\"))"
   ]
  },
  {
   "cell_type": "code",
   "execution_count": 71,
   "metadata": {},
   "outputs": [
    {
     "data": {
      "text/html": [
       "<div>\n",
       "<style scoped>\n",
       "    .dataframe tbody tr th:only-of-type {\n",
       "        vertical-align: middle;\n",
       "    }\n",
       "\n",
       "    .dataframe tbody tr th {\n",
       "        vertical-align: top;\n",
       "    }\n",
       "\n",
       "    .dataframe thead th {\n",
       "        text-align: right;\n",
       "    }\n",
       "</style>\n",
       "<table border=\"1\" class=\"dataframe\">\n",
       "  <thead>\n",
       "    <tr style=\"text-align: right;\">\n",
       "      <th></th>\n",
       "      <th>COMMENT</th>\n",
       "      <th>ORIGINATOR</th>\n",
       "      <th>NORAD_CAT_ID</th>\n",
       "      <th>OBJECT_NAME</th>\n",
       "      <th>OBJECT_TYPE</th>\n",
       "      <th>CLASSIFICATION_TYPE</th>\n",
       "      <th>INTLDES</th>\n",
       "      <th>EPOCH</th>\n",
       "      <th>EPOCH_MICROSECONDS</th>\n",
       "      <th>MEAN_MOTION</th>\n",
       "      <th>...</th>\n",
       "      <th>TLE_LINE0</th>\n",
       "      <th>TLE_LINE1</th>\n",
       "      <th>TLE_LINE2</th>\n",
       "      <th>OBJECT_ID</th>\n",
       "      <th>OBJECT_NUMBER</th>\n",
       "      <th>SEMIMAJOR_AXIS</th>\n",
       "      <th>PERIOD</th>\n",
       "      <th>APOGEE</th>\n",
       "      <th>PERIGEE</th>\n",
       "      <th>DECAYED</th>\n",
       "    </tr>\n",
       "  </thead>\n",
       "  <tbody>\n",
       "    <tr>\n",
       "      <th>0</th>\n",
       "      <td>GENERATED VIA SPACETRACK.ORG API</td>\n",
       "      <td>18 SPCS</td>\n",
       "      <td>34761</td>\n",
       "      <td>COSMOS 2251 DEB</td>\n",
       "      <td>DEBRIS</td>\n",
       "      <td>U</td>\n",
       "      <td>93036AAF</td>\n",
       "      <td>2021-11-28 00:00:03</td>\n",
       "      <td>653856</td>\n",
       "      <td>14.307648</td>\n",
       "      <td>...</td>\n",
       "      <td>0 COSMOS 2251 DEB</td>\n",
       "      <td>1 34761U 93036AAF 21332.00004229  .00000354  0...</td>\n",
       "      <td>2 34761  74.0297 182.9087 0043634 216.8055 143...</td>\n",
       "      <td>1993-036AAF</td>\n",
       "      <td>34761</td>\n",
       "      <td>7167.312</td>\n",
       "      <td>100.645</td>\n",
       "      <td>820.451</td>\n",
       "      <td>757.904</td>\n",
       "      <td>0.0</td>\n",
       "    </tr>\n",
       "    <tr>\n",
       "      <th>1</th>\n",
       "      <td>GENERATED VIA SPACETRACK.ORG API</td>\n",
       "      <td>18 SPCS</td>\n",
       "      <td>41917</td>\n",
       "      <td>IRIDIUM 106</td>\n",
       "      <td>PAYLOAD</td>\n",
       "      <td>U</td>\n",
       "      <td>17003A</td>\n",
       "      <td>2021-11-28 00:00:05</td>\n",
       "      <td>990112</td>\n",
       "      <td>14.342200</td>\n",
       "      <td>...</td>\n",
       "      <td>0 IRIDIUM 106</td>\n",
       "      <td>1 41917U 17003A   21332.00006933  .00000114  0...</td>\n",
       "      <td>2 41917  86.3989  63.1223 0002037  88.6723 271...</td>\n",
       "      <td>2017-003A</td>\n",
       "      <td>41917</td>\n",
       "      <td>7155.797</td>\n",
       "      <td>100.403</td>\n",
       "      <td>779.119</td>\n",
       "      <td>776.204</td>\n",
       "      <td>0.0</td>\n",
       "    </tr>\n",
       "    <tr>\n",
       "      <th>2</th>\n",
       "      <td>GENERATED VIA SPACETRACK.ORG API</td>\n",
       "      <td>18 SPCS</td>\n",
       "      <td>26930</td>\n",
       "      <td>PICOSAT 9</td>\n",
       "      <td>PAYLOAD</td>\n",
       "      <td>U</td>\n",
       "      <td>01043B</td>\n",
       "      <td>2021-11-28 00:00:14</td>\n",
       "      <td>440032</td>\n",
       "      <td>14.307583</td>\n",
       "      <td>...</td>\n",
       "      <td>0 PICOSAT 9</td>\n",
       "      <td>1 26930U 01043B   21332.00016713 -.00000039  0...</td>\n",
       "      <td>2 26930  66.9992 167.1101 0003548 225.8704 134...</td>\n",
       "      <td>2001-043B</td>\n",
       "      <td>26930</td>\n",
       "      <td>7167.334</td>\n",
       "      <td>100.646</td>\n",
       "      <td>791.742</td>\n",
       "      <td>786.656</td>\n",
       "      <td>0.0</td>\n",
       "    </tr>\n",
       "    <tr>\n",
       "      <th>3</th>\n",
       "      <td>GENERATED VIA SPACETRACK.ORG API</td>\n",
       "      <td>18 SPCS</td>\n",
       "      <td>30281</td>\n",
       "      <td>FENGYUN 1C DEB</td>\n",
       "      <td>DEBRIS</td>\n",
       "      <td>U</td>\n",
       "      <td>99025YS</td>\n",
       "      <td>2021-11-28 00:00:18</td>\n",
       "      <td>245952</td>\n",
       "      <td>14.086378</td>\n",
       "      <td>...</td>\n",
       "      <td>0 FENGYUN 1C DEB</td>\n",
       "      <td>1 30281U 99025YS  21332.00021118  .00000047  0...</td>\n",
       "      <td>2 30281  98.7296 346.0670 0030644  93.5250 287...</td>\n",
       "      <td>1999-025YS</td>\n",
       "      <td>30281</td>\n",
       "      <td>7242.174</td>\n",
       "      <td>102.226</td>\n",
       "      <td>886.232</td>\n",
       "      <td>841.846</td>\n",
       "      <td>0.0</td>\n",
       "    </tr>\n",
       "    <tr>\n",
       "      <th>4</th>\n",
       "      <td>GENERATED VIA SPACETRACK.ORG API</td>\n",
       "      <td>18 SPCS</td>\n",
       "      <td>43172</td>\n",
       "      <td>YAOGAN-30 M</td>\n",
       "      <td>PAYLOAD</td>\n",
       "      <td>U</td>\n",
       "      <td>18011D</td>\n",
       "      <td>2021-11-28 00:00:33</td>\n",
       "      <td>351264</td>\n",
       "      <td>14.900619</td>\n",
       "      <td>...</td>\n",
       "      <td>0 YAOGAN-30 M</td>\n",
       "      <td>1 43172U 18011D   21332.00038601  .00000333  0...</td>\n",
       "      <td>2 43172  34.9977  86.5298 0003732  42.0217 318...</td>\n",
       "      <td>2018-011D</td>\n",
       "      <td>43172</td>\n",
       "      <td>6975.879</td>\n",
       "      <td>96.640</td>\n",
       "      <td>600.348</td>\n",
       "      <td>595.141</td>\n",
       "      <td>0.0</td>\n",
       "    </tr>\n",
       "    <tr>\n",
       "      <th>...</th>\n",
       "      <td>...</td>\n",
       "      <td>...</td>\n",
       "      <td>...</td>\n",
       "      <td>...</td>\n",
       "      <td>...</td>\n",
       "      <td>...</td>\n",
       "      <td>...</td>\n",
       "      <td>...</td>\n",
       "      <td>...</td>\n",
       "      <td>...</td>\n",
       "      <td>...</td>\n",
       "      <td>...</td>\n",
       "      <td>...</td>\n",
       "      <td>...</td>\n",
       "      <td>...</td>\n",
       "      <td>...</td>\n",
       "      <td>...</td>\n",
       "      <td>...</td>\n",
       "      <td>...</td>\n",
       "      <td>...</td>\n",
       "      <td>...</td>\n",
       "    </tr>\n",
       "    <tr>\n",
       "      <th>9995</th>\n",
       "      <td>GENERATED VIA SPACETRACK.ORG API</td>\n",
       "      <td>18 SPCS</td>\n",
       "      <td>48662</td>\n",
       "      <td>STARLINK-2726</td>\n",
       "      <td>PAYLOAD</td>\n",
       "      <td>U</td>\n",
       "      <td>21044AA</td>\n",
       "      <td>2021-11-28 07:32:15</td>\n",
       "      <td>638496</td>\n",
       "      <td>15.063919</td>\n",
       "      <td>...</td>\n",
       "      <td>0 STARLINK-2726</td>\n",
       "      <td>1 48662U 21044AA  21332.31406989  .00000355  0...</td>\n",
       "      <td>2 48662  53.0571 285.3890 0001750  58.2335 301...</td>\n",
       "      <td>2021-044AA</td>\n",
       "      <td>48662</td>\n",
       "      <td>6925.373</td>\n",
       "      <td>95.593</td>\n",
       "      <td>548.450</td>\n",
       "      <td>546.026</td>\n",
       "      <td>0.0</td>\n",
       "    </tr>\n",
       "    <tr>\n",
       "      <th>9996</th>\n",
       "      <td>GENERATED VIA SPACETRACK.ORG API</td>\n",
       "      <td>18 SPCS</td>\n",
       "      <td>48895</td>\n",
       "      <td>SPACEBEE-108</td>\n",
       "      <td>PAYLOAD</td>\n",
       "      <td>U</td>\n",
       "      <td>21059S</td>\n",
       "      <td>2021-11-28 07:32:15</td>\n",
       "      <td>981504</td>\n",
       "      <td>15.127554</td>\n",
       "      <td>...</td>\n",
       "      <td>0 SPACEBEE-108</td>\n",
       "      <td>1 48895U 21059S   21332.31407386  .00003276  0...</td>\n",
       "      <td>2 48895  97.5337  98.9342 0011040  81.7094 278...</td>\n",
       "      <td>2021-059S</td>\n",
       "      <td>48895</td>\n",
       "      <td>6905.938</td>\n",
       "      <td>95.191</td>\n",
       "      <td>535.427</td>\n",
       "      <td>520.179</td>\n",
       "      <td>0.0</td>\n",
       "    </tr>\n",
       "    <tr>\n",
       "      <th>9997</th>\n",
       "      <td>GENERATED VIA SPACETRACK.ORG API</td>\n",
       "      <td>18 SPCS</td>\n",
       "      <td>831</td>\n",
       "      <td>ELEKTRON 3 DEB</td>\n",
       "      <td>DEBRIS</td>\n",
       "      <td>U</td>\n",
       "      <td>64038C</td>\n",
       "      <td>2021-11-28 07:32:15</td>\n",
       "      <td>934848</td>\n",
       "      <td>12.057869</td>\n",
       "      <td>...</td>\n",
       "      <td>0 ELEKTRON 3 DEB</td>\n",
       "      <td>1 00831U 64038C   21332.31407332  .00005564  0...</td>\n",
       "      <td>2 00831  60.7192 252.8602 1575711 292.9331  51...</td>\n",
       "      <td>1964-038C</td>\n",
       "      <td>831</td>\n",
       "      <td>8033.192</td>\n",
       "      <td>119.424</td>\n",
       "      <td>2920.855</td>\n",
       "      <td>389.258</td>\n",
       "      <td>0.0</td>\n",
       "    </tr>\n",
       "    <tr>\n",
       "      <th>9998</th>\n",
       "      <td>GENERATED VIA SPACETRACK.ORG API</td>\n",
       "      <td>18 SPCS</td>\n",
       "      <td>48906</td>\n",
       "      <td>UMBRA-2001</td>\n",
       "      <td>PAYLOAD</td>\n",
       "      <td>U</td>\n",
       "      <td>21059AD</td>\n",
       "      <td>2021-11-28 07:32:15</td>\n",
       "      <td>135648</td>\n",
       "      <td>15.107851</td>\n",
       "      <td>...</td>\n",
       "      <td>0 UMBRA-2001</td>\n",
       "      <td>1 48906U 21059AD  21332.31406407  .00005986  0...</td>\n",
       "      <td>2 48906  97.5253  98.7948 0009967  45.6889 314...</td>\n",
       "      <td>2021-059AD</td>\n",
       "      <td>48906</td>\n",
       "      <td>6911.941</td>\n",
       "      <td>95.315</td>\n",
       "      <td>540.695</td>\n",
       "      <td>526.917</td>\n",
       "      <td>0.0</td>\n",
       "    </tr>\n",
       "    <tr>\n",
       "      <th>9999</th>\n",
       "      <td>GENERATED VIA SPACETRACK.ORG API</td>\n",
       "      <td>18 SPCS</td>\n",
       "      <td>26841</td>\n",
       "      <td>DELTA 1 DEB</td>\n",
       "      <td>DEBRIS</td>\n",
       "      <td>U</td>\n",
       "      <td>75052KV</td>\n",
       "      <td>2021-11-28 07:32:16</td>\n",
       "      <td>810080</td>\n",
       "      <td>12.851297</td>\n",
       "      <td>...</td>\n",
       "      <td>0 DELTA 1 DEB</td>\n",
       "      <td>1 26841U 75052KV  21332.31408345  .00001781  0...</td>\n",
       "      <td>2 26841  99.9117  95.4848 0519672 256.6418 124...</td>\n",
       "      <td>1975-052KV</td>\n",
       "      <td>26841</td>\n",
       "      <td>7699.051</td>\n",
       "      <td>112.051</td>\n",
       "      <td>1721.014</td>\n",
       "      <td>920.818</td>\n",
       "      <td>0.0</td>\n",
       "    </tr>\n",
       "  </tbody>\n",
       "</table>\n",
       "<p>10000 rows × 32 columns</p>\n",
       "</div>"
      ],
      "text/plain": [
       "                               COMMENT ORIGINATOR  NORAD_CAT_ID  \\\n",
       "0     GENERATED VIA SPACETRACK.ORG API    18 SPCS         34761   \n",
       "1     GENERATED VIA SPACETRACK.ORG API    18 SPCS         41917   \n",
       "2     GENERATED VIA SPACETRACK.ORG API    18 SPCS         26930   \n",
       "3     GENERATED VIA SPACETRACK.ORG API    18 SPCS         30281   \n",
       "4     GENERATED VIA SPACETRACK.ORG API    18 SPCS         43172   \n",
       "...                                ...        ...           ...   \n",
       "9995  GENERATED VIA SPACETRACK.ORG API    18 SPCS         48662   \n",
       "9996  GENERATED VIA SPACETRACK.ORG API    18 SPCS         48895   \n",
       "9997  GENERATED VIA SPACETRACK.ORG API    18 SPCS           831   \n",
       "9998  GENERATED VIA SPACETRACK.ORG API    18 SPCS         48906   \n",
       "9999  GENERATED VIA SPACETRACK.ORG API    18 SPCS         26841   \n",
       "\n",
       "          OBJECT_NAME OBJECT_TYPE CLASSIFICATION_TYPE   INTLDES  \\\n",
       "0     COSMOS 2251 DEB      DEBRIS                   U  93036AAF   \n",
       "1         IRIDIUM 106     PAYLOAD                   U    17003A   \n",
       "2           PICOSAT 9     PAYLOAD                   U    01043B   \n",
       "3      FENGYUN 1C DEB      DEBRIS                   U   99025YS   \n",
       "4         YAOGAN-30 M     PAYLOAD                   U    18011D   \n",
       "...               ...         ...                 ...       ...   \n",
       "9995    STARLINK-2726     PAYLOAD                   U   21044AA   \n",
       "9996     SPACEBEE-108     PAYLOAD                   U    21059S   \n",
       "9997   ELEKTRON 3 DEB      DEBRIS                   U    64038C   \n",
       "9998       UMBRA-2001     PAYLOAD                   U   21059AD   \n",
       "9999      DELTA 1 DEB      DEBRIS                   U   75052KV   \n",
       "\n",
       "                    EPOCH  EPOCH_MICROSECONDS  MEAN_MOTION  ...  \\\n",
       "0     2021-11-28 00:00:03              653856    14.307648  ...   \n",
       "1     2021-11-28 00:00:05              990112    14.342200  ...   \n",
       "2     2021-11-28 00:00:14              440032    14.307583  ...   \n",
       "3     2021-11-28 00:00:18              245952    14.086378  ...   \n",
       "4     2021-11-28 00:00:33              351264    14.900619  ...   \n",
       "...                   ...                 ...          ...  ...   \n",
       "9995  2021-11-28 07:32:15              638496    15.063919  ...   \n",
       "9996  2021-11-28 07:32:15              981504    15.127554  ...   \n",
       "9997  2021-11-28 07:32:15              934848    12.057869  ...   \n",
       "9998  2021-11-28 07:32:15              135648    15.107851  ...   \n",
       "9999  2021-11-28 07:32:16              810080    12.851297  ...   \n",
       "\n",
       "              TLE_LINE0                                          TLE_LINE1  \\\n",
       "0     0 COSMOS 2251 DEB  1 34761U 93036AAF 21332.00004229  .00000354  0...   \n",
       "1         0 IRIDIUM 106  1 41917U 17003A   21332.00006933  .00000114  0...   \n",
       "2           0 PICOSAT 9  1 26930U 01043B   21332.00016713 -.00000039  0...   \n",
       "3      0 FENGYUN 1C DEB  1 30281U 99025YS  21332.00021118  .00000047  0...   \n",
       "4         0 YAOGAN-30 M  1 43172U 18011D   21332.00038601  .00000333  0...   \n",
       "...                 ...                                                ...   \n",
       "9995    0 STARLINK-2726  1 48662U 21044AA  21332.31406989  .00000355  0...   \n",
       "9996     0 SPACEBEE-108  1 48895U 21059S   21332.31407386  .00003276  0...   \n",
       "9997   0 ELEKTRON 3 DEB  1 00831U 64038C   21332.31407332  .00005564  0...   \n",
       "9998       0 UMBRA-2001  1 48906U 21059AD  21332.31406407  .00005986  0...   \n",
       "9999      0 DELTA 1 DEB  1 26841U 75052KV  21332.31408345  .00001781  0...   \n",
       "\n",
       "                                              TLE_LINE2    OBJECT_ID  \\\n",
       "0     2 34761  74.0297 182.9087 0043634 216.8055 143...  1993-036AAF   \n",
       "1     2 41917  86.3989  63.1223 0002037  88.6723 271...    2017-003A   \n",
       "2     2 26930  66.9992 167.1101 0003548 225.8704 134...    2001-043B   \n",
       "3     2 30281  98.7296 346.0670 0030644  93.5250 287...   1999-025YS   \n",
       "4     2 43172  34.9977  86.5298 0003732  42.0217 318...    2018-011D   \n",
       "...                                                 ...          ...   \n",
       "9995  2 48662  53.0571 285.3890 0001750  58.2335 301...   2021-044AA   \n",
       "9996  2 48895  97.5337  98.9342 0011040  81.7094 278...    2021-059S   \n",
       "9997  2 00831  60.7192 252.8602 1575711 292.9331  51...    1964-038C   \n",
       "9998  2 48906  97.5253  98.7948 0009967  45.6889 314...   2021-059AD   \n",
       "9999  2 26841  99.9117  95.4848 0519672 256.6418 124...   1975-052KV   \n",
       "\n",
       "      OBJECT_NUMBER  SEMIMAJOR_AXIS   PERIOD    APOGEE  PERIGEE  DECAYED  \n",
       "0             34761        7167.312  100.645   820.451  757.904      0.0  \n",
       "1             41917        7155.797  100.403   779.119  776.204      0.0  \n",
       "2             26930        7167.334  100.646   791.742  786.656      0.0  \n",
       "3             30281        7242.174  102.226   886.232  841.846      0.0  \n",
       "4             43172        6975.879   96.640   600.348  595.141      0.0  \n",
       "...             ...             ...      ...       ...      ...      ...  \n",
       "9995          48662        6925.373   95.593   548.450  546.026      0.0  \n",
       "9996          48895        6905.938   95.191   535.427  520.179      0.0  \n",
       "9997            831        8033.192  119.424  2920.855  389.258      0.0  \n",
       "9998          48906        6911.941   95.315   540.695  526.917      0.0  \n",
       "9999          26841        7699.051  112.051  1721.014  920.818      0.0  \n",
       "\n",
       "[10000 rows x 32 columns]"
      ]
     },
     "execution_count": 71,
     "metadata": {},
     "output_type": "execute_result"
    }
   ],
   "source": []
  },
  {
   "cell_type": "code",
   "execution_count": 487,
   "metadata": {
    "id": "V6yomxx_73Q2",
    "nbgrader": {
     "grade": false,
     "grade_id": "cell-9b0245844d72bf80",
     "locked": false,
     "schema_version": 3,
     "solution": false
    }
   },
   "outputs": [],
   "source": [
    "# Get features from our TLE data\n",
    "features = []\n",
    "for i,sat in all_sats.iterrows():\n",
    "    if i % 100 == 0 and i != 0:\n",
    "        break\n",
    "    features.append(sat.drop(['COMMENT','ORIGINATOR','NORAD_CAT_ID','OBJECT_NAME','OBJECT_TYPE','CLASSIFICATION_TYPE','EPOCH_MICROSECONDS','INTLDES','EPOCH','FILE', 'TLE_LINE0', 'TLE_LINE1', 'TLE_LINE2','OBJECT_ID','OBJECT_NUMBER']))"
   ]
  },
  {
   "cell_type": "code",
   "execution_count": 413,
   "metadata": {
    "colab": {
     "base_uri": "https://localhost:8080/",
     "height": 435
    },
    "id": "wjZudhaXT5KW",
    "outputId": "3c1cba95-9067-44d2-c800-db68ad28df3a"
   },
   "outputs": [],
   "source": [
    "# Get tracking data for 10000 satellites\n",
    "sats = []\n",
    "\n",
    "for i,sat in all_sats.iterrows():\n",
    "    entry = sat\n",
    "    SatL1, SatL2 = entry['TLE_LINE1'], entry['TLE_LINE2']\n",
    "    date = datetime.datetime.strptime(entry['EPOCH'], \"%Y-%m-%d %H:%M:%S\")\n",
    "  \n",
    "    tmp_sat = dict(name=entry['OBJECT_NAME'], L1=SatL1, L2=SatL2, year=date.year, month=date.month, day=date.day)\n",
    "    sats.append(tmp_sat)\n",
    "\n",
    "\n",
    "data = load('de421.bsp')\n",
    "ts   = load.timescale()\n",
    "\n",
    "planets = load('de421.bsp')\n",
    "earth   = planets['earth']\n",
    "\n",
    "eSats = []\n",
    "hours = np.arange(0, 24.3, 0.30)\n",
    "\n",
    "for s in sats:\n",
    "  Sat = EarthSatellite(s['L1'], s['L2'], name=s['name'])\n",
    "  eSats.append(Sat)\n",
    "  time = ts.utc(s['year'], s['month'], s['day'], hours)\n",
    "  s['pos'] = Sat.at(time).position.km\n",
    "  s['posecl'] = Sat.at(time).ecliptic_position().km\n",
    "\n"
   ]
  },
  {
   "cell_type": "code",
   "execution_count": 414,
   "metadata": {
    "colab": {
     "base_uri": "https://localhost:8080/",
     "height": 523
    },
    "id": "_TpxmJQGm4YI",
    "outputId": "8495f043-de5a-411c-da8c-4551a8005c0e"
   },
   "outputs": [
    {
     "data": {
      "image/png": "[encoded data removed]",
      "text/plain": [
       "<Figure size 720x576 with 1 Axes>"
      ]
     },
     "metadata": {},
     "output_type": "display_data"
    }
   ],
   "source": [
    "# Plotting all 10000 sats will take about 20 minutes, not worth it\n",
    "figPlot = plt.figure(figsize=[10, 8])\n",
    "figPlot.suptitle('100 SATELLITES PROJECTION', fontsize=14, fontweight='bold')\n",
    "axdet  = figPlot.add_subplot(1, 1, 1, projection='3d')\n",
    "for Sat in sats[0:100]:\n",
    "    x, y, z = Sat['pos']\n",
    "    axdet.plot(x, y, z)\n",
    "    #ax.text(5500, 500, 8500, Sat03.name)\n",
    "    for x, y, z in lons:\n",
    "        axdet.plot(x, y, z, '-k')\n",
    "    for x, y, z in lats:\n",
    "        axdet.plot(x, y, z, '-k')\n",
    "\n",
    "  \n",
    "\n",
    "plt.show()"
   ]
  },
  {
   "cell_type": "code",
   "execution_count": 39,
   "metadata": {},
   "outputs": [
    {
     "ename": "IndexError",
     "evalue": "index 81 is out of bounds for axis 0 with size 81",
     "output_type": "error",
     "traceback": [
      "\u001b[0;31m---------------------------------------------------------------------------\u001b[0m",
      "\u001b[0;31mIndexError\u001b[0m                                Traceback (most recent call last)",
      "\u001b[0;32m<ipython-input-39-0f33d701c96b>\u001b[0m in \u001b[0;36m<module>\u001b[0;34m\u001b[0m\n\u001b[0;32m----> 1\u001b[0;31m \u001b[0msats\u001b[0m\u001b[0;34m[\u001b[0m\u001b[0;36m0\u001b[0m\u001b[0;34m]\u001b[0m\u001b[0;34m[\u001b[0m\u001b[0;34m'pos'\u001b[0m\u001b[0;34m]\u001b[0m\u001b[0;34m[\u001b[0m\u001b[0;36m0\u001b[0m\u001b[0;34m]\u001b[0m\u001b[0;34m[\u001b[0m\u001b[0mlen\u001b[0m\u001b[0;34m(\u001b[0m\u001b[0mhours\u001b[0m\u001b[0;34m)\u001b[0m\u001b[0;34m]\u001b[0m\u001b[0;34m\u001b[0m\u001b[0;34m\u001b[0m\u001b[0m\n\u001b[0m",
      "\u001b[0;31mIndexError\u001b[0m: index 81 is out of bounds for axis 0 with size 81"
     ]
    }
   ],
   "source": []
  },
  {
   "cell_type": "code",
   "execution_count": 488,
   "metadata": {
    "colab": {
     "base_uri": "https://localhost:8080/",
     "height": 574
    },
    "id": "hhGH6mWLXJwv",
    "outputId": "d5758b82-e3f4-41b2-8864-80bf1c2eb14a"
   },
   "outputs": [
    {
     "name": "stdout",
     "output_type": "stream",
     "text": [
      "0 /1000\n"
     ]
    }
   ],
   "source": [
    "# Now create features including time-offsets from hours \n",
    "complete_features = []\n",
    "for i, f in enumerate(features):\n",
    "  # Combine the position of the satellites with the appropriate hour\n",
    "  if i % 200 == 0:\n",
    "        print(i,\"/1000\")\n",
    "  \n",
    "  for h_i, h in enumerate(hours):\n",
    "    tmp = f.copy(deep=True)\n",
    "    x = sats[i]['pos'][0][h_i]\n",
    "    y = sats[i]['pos'][1][h_i]\n",
    "    z = sats[i]['pos'][2][h_i]\n",
    "    \n",
    "    tmp['HOURS'] = h\n",
    "    tmp['X'] = x\n",
    "    tmp['Y'] = y\n",
    "    tmp['Z'] = z\n",
    "    complete_features.append(tmp)"
   ]
  },
  {
   "cell_type": "code",
   "execution_count": 489,
   "metadata": {
    "id": "Mac8BPgxdRhL"
   },
   "outputs": [],
   "source": [
    "df = pd.DataFrame(complete_features).dropna()"
   ]
  },
  {
   "cell_type": "code",
   "execution_count": 523,
   "metadata": {},
   "outputs": [],
   "source": [
    "# Create feature arrays for 3 targets\n",
    "sat_X_features = df.copy(deep=True)[['HOURS']]\n",
    "sat_X_target = df[['X','Y','Z']]\n"
   ]
  },
  {
   "cell_type": "code",
   "execution_count": 524,
   "metadata": {
    "id": "05cedxJlciNW"
   },
   "outputs": [],
   "source": [
    "x_train, x_test, y_train, y_test = train_test_split(sat_X_features, sat_X_target, test_size=0.2, random_state=0)"
   ]
  },
  {
   "cell_type": "code",
   "execution_count": 525,
   "metadata": {
    "colab": {
     "base_uri": "https://localhost:8080/"
    },
    "id": "JS1WEyq473Q2",
    "nbgrader": {
     "grade": false,
     "grade_id": "cell-e2de7844f2c7f49e",
     "locked": false,
     "schema_version": 3,
     "solution": false
    },
    "outputId": "1e903713-18cd-4208-a9ff-94915cb88d14"
   },
   "outputs": [
    {
     "data": {
      "text/plain": [
       "(6480, 1)"
      ]
     },
     "execution_count": 525,
     "metadata": {},
     "output_type": "execute_result"
    }
   ],
   "source": [
    "x_train.shape"
   ]
  },
  {
   "cell_type": "code",
   "execution_count": 493,
   "metadata": {
    "colab": {
     "base_uri": "https://localhost:8080/"
    },
    "id": "JJUWPv5M73Q3",
    "nbgrader": {
     "grade": false,
     "grade_id": "cell-33b45d559f48738f",
     "locked": false,
     "schema_version": 3,
     "solution": false
    },
    "outputId": "b4903a78-1393-4ac0-ed70-06be82eec66a"
   },
   "outputs": [
    {
     "data": {
      "text/plain": [
       "(6480, 1)"
      ]
     },
     "execution_count": 493,
     "metadata": {},
     "output_type": "execute_result"
    }
   ],
   "source": [
    "y_train.shape"
   ]
  },
  {
   "cell_type": "code",
   "execution_count": 510,
   "metadata": {},
   "outputs": [],
   "source": [
    "from sklearn.preprocessing import MinMaxScaler\n",
    "\n",
    "min_max_scaler = MinMaxScaler()\n",
    "X_scale = min_max_scaler.fit_transform(x_train, y_train)\n",
    "x_test = min_max_scaler.transform(x_test)"
   ]
  },
  {
   "cell_type": "code",
   "execution_count": 494,
   "metadata": {},
   "outputs": [
    {
     "data": {
      "text/html": [
       "<div>\n",
       "<style scoped>\n",
       "    .dataframe tbody tr th:only-of-type {\n",
       "        vertical-align: middle;\n",
       "    }\n",
       "\n",
       "    .dataframe tbody tr th {\n",
       "        vertical-align: top;\n",
       "    }\n",
       "\n",
       "    .dataframe thead th {\n",
       "        text-align: right;\n",
       "    }\n",
       "</style>\n",
       "<table border=\"1\" class=\"dataframe\">\n",
       "  <thead>\n",
       "    <tr style=\"text-align: right;\">\n",
       "      <th></th>\n",
       "      <th>X</th>\n",
       "    </tr>\n",
       "  </thead>\n",
       "  <tbody>\n",
       "    <tr>\n",
       "      <th>32</th>\n",
       "      <td>31957.709624</td>\n",
       "    </tr>\n",
       "    <tr>\n",
       "      <th>36</th>\n",
       "      <td>2835.135775</td>\n",
       "    </tr>\n",
       "    <tr>\n",
       "      <th>19</th>\n",
       "      <td>-4361.857493</td>\n",
       "    </tr>\n",
       "    <tr>\n",
       "      <th>36</th>\n",
       "      <td>3260.033209</td>\n",
       "    </tr>\n",
       "    <tr>\n",
       "      <th>92</th>\n",
       "      <td>-551.855236</td>\n",
       "    </tr>\n",
       "    <tr>\n",
       "      <th>...</th>\n",
       "      <td>...</td>\n",
       "    </tr>\n",
       "    <tr>\n",
       "      <th>9</th>\n",
       "      <td>-28919.521495</td>\n",
       "    </tr>\n",
       "    <tr>\n",
       "      <th>23</th>\n",
       "      <td>523.047154</td>\n",
       "    </tr>\n",
       "    <tr>\n",
       "      <th>91</th>\n",
       "      <td>1840.788047</td>\n",
       "    </tr>\n",
       "    <tr>\n",
       "      <th>77</th>\n",
       "      <td>2661.647345</td>\n",
       "    </tr>\n",
       "    <tr>\n",
       "      <th>72</th>\n",
       "      <td>691.733462</td>\n",
       "    </tr>\n",
       "  </tbody>\n",
       "</table>\n",
       "<p>1620 rows × 1 columns</p>\n",
       "</div>"
      ],
      "text/plain": [
       "               X\n",
       "32  31957.709624\n",
       "36   2835.135775\n",
       "19  -4361.857493\n",
       "36   3260.033209\n",
       "92   -551.855236\n",
       "..           ...\n",
       "9  -28919.521495\n",
       "23    523.047154\n",
       "91   1840.788047\n",
       "77   2661.647345\n",
       "72    691.733462\n",
       "\n",
       "[1620 rows x 1 columns]"
      ]
     },
     "execution_count": 494,
     "metadata": {},
     "output_type": "execute_result"
    }
   ],
   "source": [
    "y_train\n",
    "y_test"
   ]
  },
  {
   "cell_type": "code",
   "execution_count": 526,
   "metadata": {
    "deletable": false,
    "id": "K6PeTXhf73Q7",
    "nbgrader": {
     "cell_type": "code",
     "checksum": "4d2aac7a6df929de0a6c49c73b3aea00",
     "grade": false,
     "grade_id": "cell-51879de7032d8823",
     "locked": false,
     "schema_version": 3,
     "solution": true
    }
   },
   "outputs": [],
   "source": [
    "# Create models\n",
    "from tensorflow.keras.models import Model\n",
    "\n",
    "inp = Input(1)\n",
    "l = Dense(100, activation='linear')(inp)\n",
    "l = Dropout(0.1)(l)\n",
    "l = Dense(100, activation='linear')(l)\n",
    "l = Dropout(0.10)(l)\n",
    "l = Dense(100, activation='linear')(l)\n",
    "l = Dropout(0.05)(l)\n",
    "l = Dense(30, activation='linear')(l)\n",
    "out = Dense(3, name=\"output_layer\")(l)\n",
    "        \n",
    "\n",
    "Xmodel = Model(inputs=inp, outputs=out)\n",
    "Xmodel.compile(loss='msle', optimizer='sgd', metrics=['accuracy'])"
   ]
  },
  {
   "cell_type": "code",
   "execution_count": 527,
   "metadata": {
    "colab": {
     "base_uri": "https://localhost:8080/"
    },
    "id": "rHtGEIqL73RE",
    "nbgrader": {
     "grade": false,
     "grade_id": "cell-d8bbd77fa779d371",
     "locked": false,
     "schema_version": 3,
     "solution": false
    },
    "outputId": "64c86ac4-a67e-4acc-cdb4-f2c7116f7fdc"
   },
   "outputs": [
    {
     "name": "stdout",
     "output_type": "stream",
     "text": [
      "Epoch 1/20\n",
      "648/648 [==============================] - 0s 359us/step - loss: 23.2844 - accuracy: 0.3386\n",
      "Epoch 2/20\n",
      "648/648 [==============================] - 0s 352us/step - loss: 23.0517 - accuracy: 0.3355\n",
      "Epoch 3/20\n",
      "648/648 [==============================] - 0s 354us/step - loss: 22.9797 - accuracy: 0.3353\n",
      "Epoch 4/20\n",
      "648/648 [==============================] - 0s 357us/step - loss: 22.9554 - accuracy: 0.3356\n",
      "Epoch 5/20\n",
      "648/648 [==============================] - 0s 356us/step - loss: 22.9402 - accuracy: 0.3355\n",
      "Epoch 6/20\n",
      "648/648 [==============================] - 0s 355us/step - loss: 22.9373 - accuracy: 0.3356\n",
      "Epoch 7/20\n",
      "648/648 [==============================] - 0s 356us/step - loss: 22.9143 - accuracy: 0.3355\n",
      "Epoch 8/20\n",
      "648/648 [==============================] - 0s 360us/step - loss: 22.8916 - accuracy: 0.3355\n",
      "Epoch 9/20\n",
      "648/648 [==============================] - 0s 352us/step - loss: 17.4976 - accuracy: 0.3343\n",
      "Epoch 10/20\n",
      "648/648 [==============================] - 0s 352us/step - loss: 17.4751 - accuracy: 0.3353\n",
      "Epoch 11/20\n",
      "648/648 [==============================] - 0s 352us/step - loss: 17.4697 - accuracy: 0.3356\n",
      "Epoch 12/20\n",
      "648/648 [==============================] - 0s 355us/step - loss: 17.4778 - accuracy: 0.3356\n",
      "Epoch 13/20\n",
      "648/648 [==============================] - 0s 358us/step - loss: 17.4683 - accuracy: 0.3352\n",
      "Epoch 14/20\n",
      "648/648 [==============================] - 0s 357us/step - loss: 17.4655 - accuracy: 0.3380\n",
      "Epoch 15/20\n",
      "648/648 [==============================] - 0s 349us/step - loss: 17.4674 - accuracy: 0.3353\n",
      "Epoch 16/20\n",
      "648/648 [==============================] - 0s 366us/step - loss: 17.4674 - accuracy: 0.3373\n",
      "Epoch 17/20\n",
      "648/648 [==============================] - 0s 356us/step - loss: 17.4629 - accuracy: 0.3363\n",
      "Epoch 18/20\n",
      "648/648 [==============================] - 0s 359us/step - loss: 17.4628 - accuracy: 0.3384\n",
      "Epoch 19/20\n",
      "648/648 [==============================] - 0s 352us/step - loss: 17.4800 - accuracy: 0.3347\n",
      "Epoch 20/20\n",
      "648/648 [==============================] - 0s 353us/step - loss: 17.4744 - accuracy: 0.3356\n"
     ]
    }
   ],
   "source": [
    "# Now fit the model\n",
    "n_epochs = 20\n",
    "history = Xmodel.fit(x_train, y_train, batch_size=10, epochs=n_epochs)"
   ]
  },
  {
   "cell_type": "code",
   "execution_count": 531,
   "metadata": {
    "id": "JMYi3zG-bxO2"
   },
   "outputs": [
    {
     "name": "stdout",
     "output_type": "stream",
     "text": [
      "[[80.69676  65.52876  50.046715]\n",
      " [84.09883  68.496284 51.455666]\n",
      " [61.985413 49.207375 42.297523]\n",
      " ...\n",
      " [71.624596 57.61536  46.289536]\n",
      " [86.93388  70.969215 52.629784]\n",
      " [64.25345  51.185726 43.236816]]                X             Y            Z\n",
      "32  31957.709624 -13725.478580  4687.153619\n",
      "36   2835.135775   -502.776044  6595.409069\n",
      "19  -4361.857493   5259.325168  2561.440507\n",
      "36   3260.033209  -1502.573655 -6257.349367\n",
      "92   -551.855236   -925.049023 -6831.255840\n",
      "..           ...           ...          ...\n",
      "9  -28919.521495 -10791.254556 -5427.155504\n",
      "23    523.047154    -12.746575  7028.790897\n",
      "91   1840.788047  -1370.583663 -6607.737212\n",
      "77   2661.647345  41735.961333  6592.509424\n",
      "72    691.733462 -17909.852663 -4351.988151\n",
      "\n",
      "[1620 rows x 3 columns]\n"
     ]
    }
   ],
   "source": [
    "y_pred = Xmodel.predict(x_test)\n",
    "print(y_pred,y_test)"
   ]
  },
  {
   "cell_type": "code",
   "execution_count": 533,
   "metadata": {},
   "outputs": [
    {
     "data": {
      "image/png": "[encoded data removed]",
      "text/plain": [
       "<Figure size 720x576 with 1 Axes>"
      ]
     },
     "metadata": {},
     "output_type": "display_data"
    }
   ],
   "source": [
    "figPlot = plt.figure(figsize=[10, 8])\n",
    "figPlot.suptitle('100 SATELLITES PROJECTION', fontsize=14, fontweight='bold')\n",
    "axdet  = figPlot.add_subplot(1, 1, 1, projection='3d')\n",
    "for p in y_pred:\n",
    "    x, y, z = p\n",
    "    axdet.plot(x, y, z)\n",
    "    #ax.text(5500, 500, 8500, Sat03.name)\n",
    "    for x, y, z in lons:\n",
    "        axdet.plot(x, y, z, '-k')\n",
    "    for x, y, z in lats:\n",
    "        axdet.plot(x, y, z, '-k')\n",
    "\n",
    "  \n",
    "\n",
    "plt.show()"
   ]
  },
  {
   "cell_type": "code",
   "execution_count": null,
   "metadata": {
    "id": "u-9dv4rc73RE",
    "nbgrader": {
     "grade": false,
     "grade_id": "cell-d280c00c6cabc586",
     "locked": false,
     "schema_version": 3,
     "solution": false
    }
   },
   "outputs": [],
   "source": []
  },
  {
   "cell_type": "markdown",
   "metadata": {
    "deletable": false,
    "editable": false,
    "id": "HjQ6dSYs73RF",
    "nbgrader": {
     "cell_type": "markdown",
     "checksum": "326bc26a2d582914d7afc0a6aef3f52a",
     "grade": false,
     "grade_id": "cell-f88eeeebe2137b4d",
     "locked": true,
     "schema_version": 3,
     "solution": false
    }
   },
   "source": [
    "Now let's try another optimizer instead of stochastic gradient descent (SGD). [Adam](https://keras.io/optimizers/#adam) is the recommended default for training neural networks since it usually performs quite well. In the next cell, compile the model with Adam instead of SGD and use the same loss and metrics. After compiling, fit the data for as many epochs as you think it takes to see the value start to converge."
   ]
  },
  {
   "cell_type": "code",
   "execution_count": null,
   "metadata": {
    "deletable": false,
    "id": "tbkjvYLx73RF",
    "nbgrader": {
     "cell_type": "code",
     "checksum": "31fc47c0632aae2847e9b28ad900c2fe",
     "grade": false,
     "grade_id": "cell-bee688f3d919be61",
     "locked": false,
     "schema_version": 3,
     "solution": true
    }
   },
   "outputs": [],
   "source": [
    "# - Instantiate an Adam optimizer with learning rate of 1e-5, and save it as \"optimizer\"\n",
    "# - Recompile the model using Adam and the same loss and metrics as previously\n",
    "# - Call .fit() to train you model, using a batch size of 1000. You choose the number of epochs.\n",
    "# - Note that we are now using a larger learning rate, so convergence\n",
    "#   should occur more quickly.\n",
    "\n",
    "# Before starting, we'll reset the model parameters back to their original,\n",
    "# random state, so we aren't trying to train an already trained model.\n",
    "model.set_weights(initial_weights)\n",
    "\n",
    "# YOUR CODE HERE\n",
    "raise NotImplementedError()"
   ]
  },
  {
   "cell_type": "code",
   "execution_count": null,
   "metadata": {
    "deletable": false,
    "editable": false,
    "id": "p1qfXNGA73RG",
    "nbgrader": {
     "cell_type": "code",
     "checksum": "526079ba3785fa572cc21eb9fd5fb7af",
     "grade": true,
     "grade_id": "cell-fe8cd91b8b780964",
     "locked": true,
     "points": 5,
     "schema_version": 3,
     "solution": false
    }
   },
   "outputs": [],
   "source": [
    "assert isinstance(model.optimizer, keras.optimizers.Adam)\n",
    "assert model.loss in [\"mae\", \"mean_absolute_error\"]"
   ]
  },
  {
   "cell_type": "code",
   "execution_count": null,
   "metadata": {
    "id": "W_t7W2xD73RG"
   },
   "outputs": [],
   "source": [
    "# You can optionally visualize the model here, with some added package installs.\n",
    "\n",
    "# tf.keras.utils.plot_model(model, show_shapes=True, show_layer_names=True)"
   ]
  },
  {
   "cell_type": "code",
   "execution_count": null,
   "metadata": {
    "id": "Xb6LMIVSbxO4"
   },
   "outputs": [],
   "source": [
    "# Let's plot the training loss and metric scores again\n",
    "\n",
    "plt.figure(figsize=(12, 4))\n",
    "plt.subplot(1, 2, 1)\n",
    "plt.plot(np.arange(1, n_epochs+1), history.history['loss'])\n",
    "plt.title('Training set loss')\n",
    "plt.xlabel('Epoch')\n",
    "plt.ylabel('Loss')\n",
    "\n",
    "plt.subplot(1, 2, 2)\n",
    "plt.semilogy(np.arange(1, n_epochs+1), history.history['mae'], label='mae')\n",
    "plt.semilogy(np.arange(1, n_epochs+1), history.history['mse'], label='mse')\n",
    "plt.legend()\n",
    "plt.title('Training set metric scores')\n",
    "plt.xlabel('Epoch')\n",
    "plt.ylabel('Error')\n",
    "\n",
    "print(f\"Training loss on the final epoch was: {history.history['loss'][-1]:0.4f}\")"
   ]
  },
  {
   "cell_type": "code",
   "execution_count": null,
   "metadata": {
    "id": "R3zBxrMk73RG",
    "nbgrader": {
     "grade": false,
     "grade_id": "cell-d5b63d6e873e152e",
     "locked": false,
     "schema_version": 3,
     "solution": false
    }
   },
   "outputs": [],
   "source": [
    "model.evaluate(x_test, y_test)"
   ]
  },
  {
   "cell_type": "markdown",
   "metadata": {
    "deletable": false,
    "editable": false,
    "id": "3k88_NmP73RH",
    "nbgrader": {
     "cell_type": "markdown",
     "checksum": "d16731044b4c469ddea89069b3100569",
     "grade": false,
     "grade_id": "cell-9ce06e7b86737575",
     "locked": true,
     "schema_version": 3,
     "solution": false
    }
   },
   "source": [
    "Now recreate the model, again named `model`, with dropout layers. Add two dropout layers, using [`Dropout`](https://www.tensorflow.org/api_docs/python/tf/keras/layers/Dropout), one after the first layer of neurons and one after the second layer of neurons.\n",
    "Create a new list of layers, and name it `layers`, rather than reusing your old list (so that the model parameters will be randomly initialized again). Then construct the model as before.\n",
    "Select a low value of dropout (say, <0.1) that results in a good score."
   ]
  },
  {
   "cell_type": "code",
   "execution_count": null,
   "metadata": {
    "deletable": false,
    "id": "HUy6UJp273RH",
    "nbgrader": {
     "cell_type": "code",
     "checksum": "6b57f0598104624eee5418f3a538acac",
     "grade": false,
     "grade_id": "cell-d5040e44398f8dc9",
     "locked": false,
     "schema_version": 3,
     "solution": true
    }
   },
   "outputs": [],
   "source": [
    "# Create your new model, with dropout layers.\n",
    "\n",
    "# YOUR CODE HERE\n",
    "raise NotImplementedError()\n"
   ]
  },
  {
   "cell_type": "code",
   "execution_count": null,
   "metadata": {
    "id": "7LeG72RM73RO",
    "nbgrader": {
     "grade": false,
     "grade_id": "cell-6179f8d29fe18a67",
     "locked": false,
     "schema_version": 3,
     "solution": false
    }
   },
   "outputs": [],
   "source": [
    "model.summary()"
   ]
  },
  {
   "cell_type": "code",
   "execution_count": null,
   "metadata": {
    "deletable": false,
    "editable": false,
    "id": "MtrNxcUo73RO",
    "nbgrader": {
     "cell_type": "code",
     "checksum": "1112b38e98fd56d9af81ced88c256d10",
     "grade": true,
     "grade_id": "cell-b6c7e6e2ddc6742a",
     "locked": true,
     "points": 5,
     "schema_version": 3,
     "solution": false
    }
   },
   "outputs": [],
   "source": [
    "assert len(layers) == 6\n",
    "assert isinstance(layers[1], Dropout)\n",
    "assert isinstance(layers[3], Dropout)\n",
    "for i,layer in enumerate(layers):\n",
    "    if i not in [1,3]:\n",
    "        assert isinstance(layers[i], keras.layers.Dense) \n",
    "        assert layer.weights[1].shape == [100, 0, 100, 0, 100, 1][i]"
   ]
  },
  {
   "cell_type": "code",
   "execution_count": null,
   "metadata": {
    "id": "0LVaKsFK73RO",
    "nbgrader": {
     "grade": false,
     "grade_id": "cell-9ed3ec168ee4a1e5",
     "locked": false,
     "schema_version": 3,
     "solution": false
    }
   },
   "outputs": [],
   "source": [
    "# Because dropout reduces the convergence rate (but may ultimately coverge to\n",
    "# a lower loss), it sometimes requires training for more epochs than otherwise.\n",
    "\n",
    "optimizer = Adam(learning_rate=1e-5)\n",
    "model.compile(optimizer=optimizer, loss='mae', metrics=['mae', \"mse\"])\n",
    "n_epochs = 50\n",
    "history = model.fit(x_train, y_train, batch_size=1000, epochs=n_epochs, verbose=1)"
   ]
  },
  {
   "cell_type": "code",
   "execution_count": null,
   "metadata": {
    "id": "1gRVA2LWbxO5"
   },
   "outputs": [],
   "source": [
    "# Let's plot the training loss and metric scores again\n",
    "\n",
    "plt.figure(figsize=(12, 4))\n",
    "plt.subplot(1, 2, 1)\n",
    "plt.plot(np.arange(1, n_epochs+1), history.history['loss'])\n",
    "plt.title('Training set loss')\n",
    "plt.xlabel('Epoch')\n",
    "plt.ylabel('Loss')\n",
    "\n",
    "plt.subplot(1, 2, 2)\n",
    "plt.semilogy(np.arange(1, n_epochs+1), history.history['mae'], label='mae')\n",
    "plt.semilogy(np.arange(1, n_epochs+1), history.history['mse'], label='mse')\n",
    "plt.legend()\n",
    "plt.title('Training set metric scores')\n",
    "plt.xlabel('Epoch')\n",
    "plt.ylabel('Error')\n",
    "\n",
    "print(f\"Training loss on the final epoch was: {history.history['loss'][-1]:0.4f}\")"
   ]
  },
  {
   "cell_type": "code",
   "execution_count": null,
   "metadata": {
    "id": "fDGQErO8bxO5"
   },
   "outputs": [],
   "source": [
    "model.evaluate(x_test, y_test)"
   ]
  },
  {
   "cell_type": "markdown",
   "metadata": {
    "deletable": false,
    "editable": false,
    "id": "LUex7SPp73RO",
    "nbgrader": {
     "cell_type": "markdown",
     "checksum": "f892cfea01ec6c2301d8cf6df12f2bfc",
     "grade": false,
     "grade_id": "cell-06909b3cd0248748",
     "locked": true,
     "schema_version": 3,
     "solution": false
    }
   },
   "source": [
    "Select a dropout rate that gets an okay score--one that is sufficient to pass the following `assert` test.\n",
    "\n",
    "Note that in this case, dropout did not likely result in better loss or metric scores on the test set versus the models without dropout. Dropout does not always help, but it sometimes does, especially if you have a very large model but a somewhat undersized dataset. In that case, dropout serves as a regularization technique, like L1- or L2-norm weight penalty terms in linear regression."
   ]
  },
  {
   "cell_type": "code",
   "execution_count": null,
   "metadata": {
    "deletable": false,
    "editable": false,
    "id": "QD8pzPFe73RO",
    "nbgrader": {
     "cell_type": "code",
     "checksum": "d1f1a9bcfa2ab8ad1ed3b21b00fb8ba9",
     "grade": true,
     "grade_id": "cell-538bede4947fe364",
     "locked": true,
     "points": 0,
     "schema_version": 3,
     "solution": false
    }
   },
   "outputs": [],
   "source": [
    "assert model.evaluate(x_test, y_test)[0] < 3"
   ]
  },
  {
   "cell_type": "markdown",
   "metadata": {
    "deletable": false,
    "editable": false,
    "id": "IPWJ3CQq73RP",
    "nbgrader": {
     "cell_type": "markdown",
     "checksum": "23648526b4581cb6ea5df76b63c45274",
     "grade": false,
     "grade_id": "cell-bdd8daf85b096db9",
     "locked": true,
     "schema_version": 3,
     "solution": false
    }
   },
   "source": [
    "## Feedback"
   ]
  },
  {
   "cell_type": "code",
   "execution_count": null,
   "metadata": {
    "deletable": false,
    "id": "8ggmw34M73RP",
    "nbgrader": {
     "cell_type": "code",
     "checksum": "ed936ab53a1391c5e6af8df699a1dbf5",
     "grade": false,
     "grade_id": "feedback",
     "locked": false,
     "schema_version": 3,
     "solution": true
    }
   },
   "outputs": [],
   "source": []
  },
  {
   "cell_type": "code",
   "execution_count": null,
   "metadata": {
    "deletable": false,
    "editable": false,
    "id": "l3-dgeRp73RP",
    "nbgrader": {
     "cell_type": "code",
     "checksum": "f39f6185a54850c2f1f9b5b2a17b7543",
     "grade": true,
     "grade_id": "feedback-tests",
     "locked": true,
     "points": 0,
     "schema_version": 3,
     "solution": false
    }
   },
   "outputs": [],
   "source": []
  }
 ],
 "metadata": {
  "colab": {
   "collapsed_sections": [],
   "name": "5a_Deep_Learning.ipynb",
   "provenance": []
  },
  "kernelspec": {
   "display_name": "Python 3 (ipykernel)",
   "language": "python",
   "name": "python3"
  },
  "language_info": {
   "codemirror_mode": {
    "name": "ipython",
    "version": 3
   },
   "file_extension": ".py",
   "mimetype": "text/x-python",
   "name": "python",
   "nbconvert_exporter": "python",
   "pygments_lexer": "ipython3",
   "version": "3.11.4"
  }
 },
 "nbformat": 4,
 "nbformat_minor": 4
}
